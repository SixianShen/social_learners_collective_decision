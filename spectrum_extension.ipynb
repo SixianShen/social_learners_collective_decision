{
 "cells": [
  {
   "cell_type": "markdown",
   "metadata": {},
   "source": [
    "# Simulate spectrum extension model \n",
    "\n",
    "The spectrum extension model is described in SM Section 5.1 of the paper. \n",
    "\n",
    "The transition rates between $X$ and $Y$ are: \n",
    "\n",
    "$P(Y \\rightarrow X) = (1-s_i) m + s_i f(x)$, where $s_i$ is the degree to which a person is a social learner\n",
    "\n",
    "$P(X \\rightarrow Y) =  (1-s_i) (1-m) + s_if(1-x)$\n",
    "\n",
    "s = 0 -> purely individual learning\n",
    "\n",
    "s = 1 -> purely social learning"
   ]
  },
  {
   "cell_type": "code",
   "execution_count": 2,
   "metadata": {},
   "outputs": [],
   "source": [
    "import numpy as np\n",
    "import matplotlib.pyplot as plt\n",
    "plt.rcParams.update({'font.size': 18})\n",
    "import matplotlib.lines as mlines\n",
    "import pandas as pd\n",
    "import scipy.stats as stats\n",
    "\n",
    "# import functions in my_functions\n",
    "import ipynb.fs.defs.my_functions as myfun"
   ]
  },
  {
   "cell_type": "code",
   "execution_count": 6,
   "metadata": {},
   "outputs": [],
   "source": [
    "def update(opinion, sList, m, alpha):\n",
    "    \"\"\"\n",
    "    Function that updates opinion of each person in 1 time step using update function\n",
    "    \"\"\"    \n",
    "    N = len(opinion)\n",
    "    x = np.sum(opinion)/N # portion of people with opinion 1\n",
    "\n",
    "    p_01 = (1-sList)*m + sList*myfun.f(x, alpha) # transition rates from Y (0) to X (1)\n",
    "    p_10 = (1-sList)*(1.-m) + sList*myfun.f(1.-x, alpha) # transition rate from X (1) to Y (0). \n",
    "        \n",
    "    # update opinion \n",
    "    idx0 = (opinion == 0)\n",
    "    idx1 = (opinion == 1)\n",
    "    \n",
    "    Dice = np.random.uniform(size = N)\n",
    "    opinion[idx0 & (Dice < p_01)] = 1 # set those with value 0 to 1 with probability m. \n",
    "    opinion[idx1 & (Dice < p_10)] = 0 # set those with value 0 to 1 with probability m. \n",
    "    \n",
    "    return opinion\n",
    "\n",
    "\n",
    "def run_till_converge(opinion, sList, m, alpha, tmax):\n",
    "    \"\"\"\n",
    "    Run simulation until convergence\n",
    "    \"\"\"\n",
    "    xList = []\n",
    "    N = len(opinion)\n",
    "    x0 = np.sum(opinion)/N\n",
    "    \n",
    "    for t in range(tmax): \n",
    "        x = np.sum(opinion)/N # portion of people with opinion 1\n",
    "        xList.append(x)\n",
    "        opinion = update(opinion, sList, m, alpha) \n",
    "        converge, avg, astd = myfun.checkConverge(xList) # check if simulation converged\n",
    "        if converge ==1: \n",
    "            x_ss = avg\n",
    "            break\n",
    "    return {\"x_ss\": avg, \"x0\": x0, \"m\": m, \"alpha\": alpha, \"tConv\":t}\n",
    "\n",
    "\n",
    "# --- Parameters to do a test run of 1 trial--- \n",
    "N = 10000\n",
    "sList = np.random.uniform(size = N) # get the distribution of r. uniform betwee 0 and 1\n",
    "x0 = 0.4 # unitial portion of people with opinion x\n",
    "opinion = (np.random.uniform(size = N) < x0)*1 # vector storing opinion of each person\n",
    "\n",
    "m = 0.2\n",
    "alpha = 1.5\n",
    "tmax = 1000\n",
    "\n",
    "out = run_till_converge(opinion,sList, m, alpha, tmax)"
   ]
  },
  {
   "cell_type": "markdown",
   "metadata": {},
   "source": [
    "## Loop through parameters"
   ]
  },
  {
   "cell_type": "code",
   "execution_count": 8,
   "metadata": {},
   "outputs": [],
   "source": [
    "def run_multi(s, mList, x0List):\n",
    "    \"\"\"\n",
    "    run multiple trails of different m and x0 parameters, with the same s distribution\n",
    "    \"\"\"\n",
    "\n",
    "    res = []\n",
    "    N = len(s)\n",
    "    for x0 in x0List:\n",
    "        for m in mList:\n",
    "            opinion = (np.random.uniform(size = N) < x0)*1 # initialize opinion with x0. \n",
    "            out = run_till_converge(opinion,s, m, alpha, tmax)\n",
    "            res.append(out)\n",
    "    return pd.DataFrame(res)\n",
    "\n",
    "# number of individuals\n",
    "N = 10000\n",
    "\n",
    "# get the distribution of r. uniform betwee 0 and 1\n",
    "s1 = np.random.uniform(size = N) \n",
    "\n",
    "mList = np.linspace(0, 1, 30)\n",
    "x0List = np.array([0.1, 0.5, 0.9])\n",
    "\n",
    "# run the uniform case\n",
    "res1 = run_multi(s1,mList, x0List)\n"
   ]
  },
  {
   "cell_type": "code",
   "execution_count": 9,
   "metadata": {},
   "outputs": [],
   "source": [
    "\n",
    "# skewed s distribution, beta distribution. Larger a > b is skewed to the right\n",
    "a = 5\n",
    "b = 1\n",
    "\n",
    "s2 = np.random.beta(a, b, size = N) \n",
    "\n",
    "mList = np.linspace(0, 1, 30)\n",
    "\n",
    "x0List = np.array([1, 0])\n",
    "\n",
    "# run simulation \n",
    "res2 = run_multi(s2,mList, x0List)\n"
   ]
  },
  {
   "cell_type": "code",
   "execution_count": 10,
   "metadata": {},
   "outputs": [],
   "source": [
    "\n",
    "# s distributed as truncated normal between 0 and 1\n",
    "lower, upper = 0, 1\n",
    "mu, sigma = 0.5, 0.2\n",
    "X = stats.truncnorm(\n",
    "    (lower - mu) / sigma, (upper - mu) / sigma, loc=mu, scale=sigma)\n",
    "s3 = X.rvs(N)\n",
    "\n",
    "mList = np.linspace(0, 1, 30)\n",
    "x0List = np.array([0.1, 0.5, 0.9])\n",
    "\n",
    "# run the uniform case\n",
    "res3 = run_multi(s3,mList, x0List)"
   ]
  },
  {
   "cell_type": "code",
   "execution_count": 11,
   "metadata": {},
   "outputs": [
    {
     "data": {
      "image/png": "[encoded data removed]",
      "text/plain": [
       "<Figure size 1296x576 with 6 Axes>"
      ]
     },
     "metadata": {
      "needs_background": "light"
     },
     "output_type": "display_data"
    }
   ],
   "source": [
    "# Plot results\n",
    "\n",
    "bins = 30\n",
    "row = 2\n",
    "col = 3\n",
    "\n",
    "def plot_r_hist(ax,s, bins):\n",
    "    ax.hist(s, bins, density = True)\n",
    "    ax.set_ylabel(\"pdf\")\n",
    "    ax.set_xlabel(\"s\")\n",
    "    \n",
    "def plot_m_bif(ax, res):\n",
    "    # plot bifurcation diagram with respect to m\n",
    "    ax.plot(res.m, res.x_ss, \".\")\n",
    "    ax.set_xlabel(\"m\")\n",
    "    ax.set_ylabel(\"x at convergence\")\n",
    "    \n",
    "    \n",
    "\n",
    "fig, ax= plt.subplots(row,  col, gridspec_kw={'height_ratios': [1,3]}, figsize = (18, 8))\n",
    "plot_r_hist(ax[0,0], s1, bins)\n",
    "plot_m_bif(ax[1, 0], res1)\n",
    "\n",
    "plot_r_hist(ax[0,2], s2, bins)\n",
    "plot_m_bif(ax[1, 2], res2)\n",
    "\n",
    "plot_r_hist(ax[0,1], s3, bins)\n",
    "plot_m_bif(ax[1, 1], res3)\n",
    "\n",
    "fig.subplots_adjust(wspace=0.3, hspace=0.3 )\n",
    "\n",
    "plt.show()\n"
   ]
  },
  {
   "cell_type": "code",
   "execution_count": null,
   "metadata": {},
   "outputs": [],
   "source": []
  }
 ],
 "metadata": {
  "kernelspec": {
   "display_name": "Python 3",
   "language": "python",
   "name": "python3"
  },
  "language_info": {
   "codemirror_mode": {
    "name": "ipython",
    "version": 3
   },
   "file_extension": ".py",
   "mimetype": "text/x-python",
   "name": "python",
   "nbconvert_exporter": "python",
   "pygments_lexer": "ipython3",
   "version": "3.7.6"
  }
 },
 "nbformat": 4,
 "nbformat_minor": 4
}
